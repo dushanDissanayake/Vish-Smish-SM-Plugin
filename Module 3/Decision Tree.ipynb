{
 "cells": [
  {
   "cell_type": "code",
   "execution_count": 10,
   "id": "2620acae",
   "metadata": {},
   "outputs": [],
   "source": [
    "# Load libraries\n",
    "import pandas as pd\n",
    "from sklearn.tree import DecisionTreeClassifier # Import Decision Tree Classifier\n",
    "from sklearn.model_selection import train_test_split # Import train_test_split function\n",
    "from sklearn import metrics #Import scikit-learn metrics module for accuracy calculation"
   ]
  },
  {
   "cell_type": "code",
   "execution_count": 11,
   "id": "32303f7b",
   "metadata": {},
   "outputs": [],
   "source": [
    "col_names = ['Direction', 'Saved', 'Verified', 'NoOfArtifacts', 'NoOfSensitiveInformation', 'URLReputationScore', 'DomainReputationScore', 'IPReputationScore', 'EmailReputationScore','PhoneNumbersReputationScore','CryptoWalletReputationScore','ContextualAnalysisScore','Verdict']\n",
    "# load dataset\n",
    "pima = pd.read_csv(\"sample4.csv\", header=None, names=col_names)\n"
   ]
  },
  {
   "cell_type": "code",
   "execution_count": 12,
   "id": "48c9024f",
   "metadata": {},
   "outputs": [
    {
     "data": {
      "text/html": [
       "<div>\n",
       "<style scoped>\n",
       "    .dataframe tbody tr th:only-of-type {\n",
       "        vertical-align: middle;\n",
       "    }\n",
       "\n",
       "    .dataframe tbody tr th {\n",
       "        vertical-align: top;\n",
       "    }\n",
       "\n",
       "    .dataframe thead th {\n",
       "        text-align: right;\n",
       "    }\n",
       "</style>\n",
       "<table border=\"1\" class=\"dataframe\">\n",
       "  <thead>\n",
       "    <tr style=\"text-align: right;\">\n",
       "      <th></th>\n",
       "      <th>Direction</th>\n",
       "      <th>Saved</th>\n",
       "      <th>Verified</th>\n",
       "      <th>NoOfArtifacts</th>\n",
       "      <th>NoOfSensitiveInformation</th>\n",
       "      <th>URLReputationScore</th>\n",
       "      <th>DomainReputationScore</th>\n",
       "      <th>IPReputationScore</th>\n",
       "      <th>EmailReputationScore</th>\n",
       "      <th>PhoneNumbersReputationScore</th>\n",
       "      <th>CryptoWalletReputationScore</th>\n",
       "      <th>ContextualAnalysisScore</th>\n",
       "      <th>Verdict</th>\n",
       "    </tr>\n",
       "  </thead>\n",
       "  <tbody>\n",
       "    <tr>\n",
       "      <th>0</th>\n",
       "      <td>1</td>\n",
       "      <td>0</td>\n",
       "      <td>1</td>\n",
       "      <td>2</td>\n",
       "      <td>1</td>\n",
       "      <td>5</td>\n",
       "      <td>6</td>\n",
       "      <td>4</td>\n",
       "      <td>6</td>\n",
       "      <td>3</td>\n",
       "      <td>1</td>\n",
       "      <td>4</td>\n",
       "      <td>1</td>\n",
       "    </tr>\n",
       "    <tr>\n",
       "      <th>1</th>\n",
       "      <td>1</td>\n",
       "      <td>0</td>\n",
       "      <td>0</td>\n",
       "      <td>0</td>\n",
       "      <td>1</td>\n",
       "      <td>1</td>\n",
       "      <td>1</td>\n",
       "      <td>1</td>\n",
       "      <td>1</td>\n",
       "      <td>1</td>\n",
       "      <td>1</td>\n",
       "      <td>1</td>\n",
       "      <td>0</td>\n",
       "    </tr>\n",
       "    <tr>\n",
       "      <th>2</th>\n",
       "      <td>1</td>\n",
       "      <td>0</td>\n",
       "      <td>0</td>\n",
       "      <td>2</td>\n",
       "      <td>0</td>\n",
       "      <td>3</td>\n",
       "      <td>1</td>\n",
       "      <td>1</td>\n",
       "      <td>1</td>\n",
       "      <td>7</td>\n",
       "      <td>1</td>\n",
       "      <td>1</td>\n",
       "      <td>1</td>\n",
       "    </tr>\n",
       "    <tr>\n",
       "      <th>3</th>\n",
       "      <td>1</td>\n",
       "      <td>0</td>\n",
       "      <td>0</td>\n",
       "      <td>1</td>\n",
       "      <td>0</td>\n",
       "      <td>6</td>\n",
       "      <td>1</td>\n",
       "      <td>1</td>\n",
       "      <td>1</td>\n",
       "      <td>1</td>\n",
       "      <td>1</td>\n",
       "      <td>1</td>\n",
       "      <td>1</td>\n",
       "    </tr>\n",
       "    <tr>\n",
       "      <th>4</th>\n",
       "      <td>0</td>\n",
       "      <td>0</td>\n",
       "      <td>0</td>\n",
       "      <td>2</td>\n",
       "      <td>0</td>\n",
       "      <td>3</td>\n",
       "      <td>1</td>\n",
       "      <td>7</td>\n",
       "      <td>1</td>\n",
       "      <td>1</td>\n",
       "      <td>1</td>\n",
       "      <td>1</td>\n",
       "      <td>1</td>\n",
       "    </tr>\n",
       "  </tbody>\n",
       "</table>\n",
       "</div>"
      ],
      "text/plain": [
       "   Direction  Saved  Verified  NoOfArtifacts  NoOfSensitiveInformation  \\\n",
       "0          1      0         1              2                         1   \n",
       "1          1      0         0              0                         1   \n",
       "2          1      0         0              2                         0   \n",
       "3          1      0         0              1                         0   \n",
       "4          0      0         0              2                         0   \n",
       "\n",
       "   URLReputationScore  DomainReputationScore  IPReputationScore  \\\n",
       "0                   5                      6                  4   \n",
       "1                   1                      1                  1   \n",
       "2                   3                      1                  1   \n",
       "3                   6                      1                  1   \n",
       "4                   3                      1                  7   \n",
       "\n",
       "   EmailReputationScore  PhoneNumbersReputationScore  \\\n",
       "0                     6                            3   \n",
       "1                     1                            1   \n",
       "2                     1                            7   \n",
       "3                     1                            1   \n",
       "4                     1                            1   \n",
       "\n",
       "   CryptoWalletReputationScore  ContextualAnalysisScore  Verdict  \n",
       "0                            1                        4        1  \n",
       "1                            1                        1        0  \n",
       "2                            1                        1        1  \n",
       "3                            1                        1        1  \n",
       "4                            1                        1        1  "
      ]
     },
     "execution_count": 12,
     "metadata": {},
     "output_type": "execute_result"
    }
   ],
   "source": [
    "pima.head()"
   ]
  },
  {
   "cell_type": "code",
   "execution_count": 13,
   "id": "21682cf3",
   "metadata": {},
   "outputs": [],
   "source": [
    "#split dataset in features and target variable\n",
    "feature_cols = ['Direction', 'Saved', 'Verified', 'NoOfArtifacts', 'NoOfSensitiveInformation', 'URLReputationScore', 'DomainReputationScore', 'IPReputationScore', 'EmailReputationScore','PhoneNumbersReputationScore','CryptoWalletReputationScore','ContextualAnalysisScore']\n",
    "X = pima[feature_cols] # Features\n",
    "y = pima.Verdict # Target variable\n"
   ]
  },
  {
   "cell_type": "code",
   "execution_count": 14,
   "id": "8ecdbbd7",
   "metadata": {},
   "outputs": [],
   "source": [
    "# Split dataset into training set and test set\n",
    "X_train, X_test, y_train, y_test = train_test_split(X, y, test_size=0.2, random_state=1) \n"
   ]
  },
  {
   "cell_type": "code",
   "execution_count": 15,
   "id": "2a0ec7d6",
   "metadata": {},
   "outputs": [],
   "source": [
    "# Create Decision Tree classifer object\n",
    "clf = DecisionTreeClassifier()\n",
    "\n",
    "# Train Decision Tree Classifer\n",
    "clf = clf.fit(X_train,y_train)\n",
    "\n",
    "#Predict the response for test dataset\n",
    "y_pred = clf.predict(X_test)"
   ]
  },
  {
   "cell_type": "code",
   "execution_count": 16,
   "id": "9a78f4bf",
   "metadata": {},
   "outputs": [
    {
     "name": "stdout",
     "output_type": "stream",
     "text": [
      "Accuracy: 0.975\n"
     ]
    }
   ],
   "source": [
    "# Model Accuracy, how often is the classifier correct?\n",
    "print(\"Accuracy:\",metrics.accuracy_score(y_test, y_pred))"
   ]
  },
  {
   "cell_type": "code",
   "execution_count": null,
   "id": "a30491d2",
   "metadata": {},
   "outputs": [],
   "source": []
  }
 ],
 "metadata": {
  "kernelspec": {
   "display_name": "Python 3 (ipykernel)",
   "language": "python",
   "name": "python3"
  },
  "language_info": {
   "codemirror_mode": {
    "name": "ipython",
    "version": 3
   },
   "file_extension": ".py",
   "mimetype": "text/x-python",
   "name": "python",
   "nbconvert_exporter": "python",
   "pygments_lexer": "ipython3",
   "version": "3.9.5"
  }
 },
 "nbformat": 4,
 "nbformat_minor": 5
}
