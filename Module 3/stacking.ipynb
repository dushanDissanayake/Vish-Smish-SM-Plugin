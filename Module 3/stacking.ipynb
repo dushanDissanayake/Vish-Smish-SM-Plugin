{
 "cells": [
  {
   "cell_type": "code",
   "execution_count": 1,
   "id": "d537d5bf",
   "metadata": {},
   "outputs": [],
   "source": [
    "from numpy import mean\n",
    "from numpy import std\n",
    "from sklearn.model_selection import cross_val_score\n",
    "from sklearn.model_selection import RepeatedStratifiedKFold\n",
    "from sklearn.linear_model import LogisticRegression\n",
    "from sklearn.neighbors import KNeighborsClassifier\n",
    "from sklearn.tree import DecisionTreeClassifier\n",
    "from sklearn.svm import SVC\n",
    "from sklearn.naive_bayes import GaussianNB\n",
    "from sklearn.ensemble import StackingClassifier\n",
    "from matplotlib import pyplot"
   ]
  },
  {
   "cell_type": "code",
   "execution_count": 2,
   "id": "69840552",
   "metadata": {},
   "outputs": [],
   "source": [
    "import pandas as pd"
   ]
  },
  {
   "cell_type": "code",
   "execution_count": 3,
   "id": "ae0aeabf",
   "metadata": {},
   "outputs": [],
   "source": [
    "def get_dataset():\n",
    "    from sklearn.model_selection import train_test_split\n",
    "    col_names = ['Direction', 'Saved', 'Verified', 'NoOfArtifacts', 'NoOfSensitiveInformation', 'URLReputationScore', 'DomainReputationScore', 'IPReputationScore', 'EmailReputationScore','PhoneNumbersReputationScore','CryptoWalletReputationScore','ContextualAnalysisScore','Verdict']\n",
    "    data = pd.read_csv('sample4.csv', header=None, names=col_names)\n",
    "    feature_cols = ['Direction', 'Saved', 'Verified', 'NoOfArtifacts', 'NoOfSensitiveInformation', 'URLReputationScore', 'DomainReputationScore', 'IPReputationScore', 'EmailReputationScore','PhoneNumbersReputationScore','CryptoWalletReputationScore','ContextualAnalysisScore']\n",
    "    X = data[feature_cols] # Features\n",
    "    y = data.Verdict\n",
    "    return X, y"
   ]
  },
  {
   "cell_type": "code",
   "execution_count": 4,
   "id": "6423f5bf",
   "metadata": {},
   "outputs": [],
   "source": [
    "# get a stacking ensemble of models\n",
    "def get_stacking():\n",
    " # define the base models\n",
    " level0 = list()\n",
    " level0.append(('lr', LogisticRegression()))\n",
    " level0.append(('knn', KNeighborsClassifier()))\n",
    " level0.append(('cart', DecisionTreeClassifier()))\n",
    " level0.append(('svm', SVC()))\n",
    " level0.append(('bayes', GaussianNB()))\n",
    " # define meta learner model\n",
    " level1 = LogisticRegression()\n",
    " # define the stacking ensemble\n",
    " model = StackingClassifier(estimators=level0, final_estimator=level1, cv=5)\n",
    " return model"
   ]
  },
  {
   "cell_type": "code",
   "execution_count": 5,
   "id": "40364c14",
   "metadata": {},
   "outputs": [],
   "source": [
    "def get_models():\n",
    " models = dict()\n",
    " models['lr'] = LogisticRegression()\n",
    " models['knn'] = KNeighborsClassifier()\n",
    " models['cart'] = DecisionTreeClassifier()\n",
    " models['svm'] = SVC()\n",
    " models['bayes'] = GaussianNB()\n",
    " models['stacking'] = get_stacking()\n",
    " return models"
   ]
  },
  {
   "cell_type": "code",
   "execution_count": 6,
   "id": "492c6424",
   "metadata": {},
   "outputs": [],
   "source": [
    "def evaluate_model(model, X, y):\n",
    " cv = RepeatedStratifiedKFold(n_splits=10, n_repeats=3, random_state=1)\n",
    " scores = cross_val_score(model, X, y, scoring='accuracy', cv=cv, n_jobs=-1, error_score='raise')\n",
    " return scores"
   ]
  },
  {
   "cell_type": "code",
   "execution_count": 7,
   "id": "62c4a3dc",
   "metadata": {},
   "outputs": [
    {
     "name": "stdout",
     "output_type": "stream",
     "text": [
      ">lr 0.684 (0.040)\n",
      ">knn 0.979 (0.014)\n",
      ">cart 0.980 (0.012)\n",
      ">svm 0.919 (0.028)\n",
      ">bayes 0.595 (0.051)\n",
      ">stacking 0.980 (0.012)\n"
     ]
    }
   ],
   "source": [
    "X, y = get_dataset()\n",
    "# get the models to evaluate\n",
    "models = get_models()\n",
    "# evaluate the models and store results\n",
    "results, names = list(), list()\n",
    "for name, model in models.items():\n",
    " scores = evaluate_model(model, X, y)\n",
    " results.append(scores)\n",
    " names.append(name)\n",
    " print('>%s %.3f (%.3f)' % (name, mean(scores), std(scores)))"
   ]
  },
  {
   "cell_type": "code",
   "execution_count": null,
   "id": "11253a4e",
   "metadata": {},
   "outputs": [],
   "source": []
  }
 ],
 "metadata": {
  "kernelspec": {
   "display_name": "Python 3 (ipykernel)",
   "language": "python",
   "name": "python3"
  },
  "language_info": {
   "codemirror_mode": {
    "name": "ipython",
    "version": 3
   },
   "file_extension": ".py",
   "mimetype": "text/x-python",
   "name": "python",
   "nbconvert_exporter": "python",
   "pygments_lexer": "ipython3",
   "version": "3.9.5"
  }
 },
 "nbformat": 4,
 "nbformat_minor": 5
}
