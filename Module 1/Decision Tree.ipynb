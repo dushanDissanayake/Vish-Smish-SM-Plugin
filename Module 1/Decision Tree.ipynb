{
 "cells": [
  {
   "cell_type": "code",
   "execution_count": 20,
   "id": "2620acae",
   "metadata": {},
   "outputs": [],
   "source": [
    "# Load libraries\n",
    "import pandas as pd\n",
    "from sklearn.tree import DecisionTreeClassifier # Import Decision Tree Classifier\n",
    "from sklearn.model_selection import train_test_split # Import train_test_split function\n",
    "from sklearn import metrics #Import scikit-learn metrics module for accuracy calculation"
   ]
  },
  {
   "cell_type": "code",
   "execution_count": 21,
   "id": "32303f7b",
   "metadata": {},
   "outputs": [],
   "source": [
    "col_names = ['Pitch', 'MFCC_Mean', 'MFCC_Variance', 'MFCC_Skewness', 'Spectral_Centroid', 'Spectral_Rolloff', 'Spectral_Flatness', 'Verdict']\n",
    "# load dataset\n",
    "pima = pd.read_csv(\"Dummy Data - Voice Feature Values.csv\", header=None, names=col_names)\n"
   ]
  },
  {
   "cell_type": "code",
   "execution_count": 22,
   "id": "48c9024f",
   "metadata": {},
   "outputs": [
    {
     "data": {
      "text/html": [
       "<div>\n",
       "<style scoped>\n",
       "    .dataframe tbody tr th:only-of-type {\n",
       "        vertical-align: middle;\n",
       "    }\n",
       "\n",
       "    .dataframe tbody tr th {\n",
       "        vertical-align: top;\n",
       "    }\n",
       "\n",
       "    .dataframe thead th {\n",
       "        text-align: right;\n",
       "    }\n",
       "</style>\n",
       "<table border=\"1\" class=\"dataframe\">\n",
       "  <thead>\n",
       "    <tr style=\"text-align: right;\">\n",
       "      <th></th>\n",
       "      <th>Pitch</th>\n",
       "      <th>MFCC_Mean</th>\n",
       "      <th>MFCC_Variance</th>\n",
       "      <th>MFCC_Skewness</th>\n",
       "      <th>Spectral_Centroid</th>\n",
       "      <th>Spectral_Rolloff</th>\n",
       "      <th>Spectral_Flatness</th>\n",
       "      <th>Verdict</th>\n",
       "    </tr>\n",
       "  </thead>\n",
       "  <tbody>\n",
       "    <tr>\n",
       "      <th>0</th>\n",
       "      <td>130</td>\n",
       "      <td>0.000000</td>\n",
       "      <td>1.000000</td>\n",
       "      <td>0.000000</td>\n",
       "      <td>1400</td>\n",
       "      <td>3500</td>\n",
       "      <td>0.800000</td>\n",
       "      <td>1</td>\n",
       "    </tr>\n",
       "    <tr>\n",
       "      <th>1</th>\n",
       "      <td>135</td>\n",
       "      <td>0.100000</td>\n",
       "      <td>1.100000</td>\n",
       "      <td>0.123590</td>\n",
       "      <td>1570</td>\n",
       "      <td>3663</td>\n",
       "      <td>0.831343</td>\n",
       "      <td>1</td>\n",
       "    </tr>\n",
       "    <tr>\n",
       "      <th>2</th>\n",
       "      <td>157</td>\n",
       "      <td>0.465048</td>\n",
       "      <td>0.500804</td>\n",
       "      <td>0.147249</td>\n",
       "      <td>1365</td>\n",
       "      <td>3077</td>\n",
       "      <td>0.892308</td>\n",
       "      <td>1</td>\n",
       "    </tr>\n",
       "    <tr>\n",
       "      <th>3</th>\n",
       "      <td>88</td>\n",
       "      <td>0.402673</td>\n",
       "      <td>1.179265</td>\n",
       "      <td>0.040288</td>\n",
       "      <td>1579</td>\n",
       "      <td>3568</td>\n",
       "      <td>0.802020</td>\n",
       "      <td>1</td>\n",
       "    </tr>\n",
       "    <tr>\n",
       "      <th>4</th>\n",
       "      <td>146</td>\n",
       "      <td>0.378382</td>\n",
       "      <td>0.506158</td>\n",
       "      <td>0.186067</td>\n",
       "      <td>1347</td>\n",
       "      <td>3396</td>\n",
       "      <td>0.886039</td>\n",
       "      <td>1</td>\n",
       "    </tr>\n",
       "  </tbody>\n",
       "</table>\n",
       "</div>"
      ],
      "text/plain": [
       "   Pitch  MFCC_Mean  MFCC_Variance  MFCC_Skewness  Spectral_Centroid  \\\n",
       "0    130   0.000000       1.000000       0.000000               1400   \n",
       "1    135   0.100000       1.100000       0.123590               1570   \n",
       "2    157   0.465048       0.500804       0.147249               1365   \n",
       "3     88   0.402673       1.179265       0.040288               1579   \n",
       "4    146   0.378382       0.506158       0.186067               1347   \n",
       "\n",
       "   Spectral_Rolloff  Spectral_Flatness  Verdict  \n",
       "0              3500           0.800000        1  \n",
       "1              3663           0.831343        1  \n",
       "2              3077           0.892308        1  \n",
       "3              3568           0.802020        1  \n",
       "4              3396           0.886039        1  "
      ]
     },
     "execution_count": 22,
     "metadata": {},
     "output_type": "execute_result"
    }
   ],
   "source": [
    "pima.head()"
   ]
  },
  {
   "cell_type": "code",
   "execution_count": 23,
   "id": "21682cf3",
   "metadata": {},
   "outputs": [],
   "source": [
    "#split dataset in features and target variable\n",
    "feature_cols = ['Pitch', 'MFCC_Mean', 'MFCC_Variance', 'MFCC_Skewness', 'Spectral_Centroid', 'Spectral_Rolloff', 'Spectral_Flatness', 'Verdict']\n",
    "X = pima[feature_cols] # Features\n",
    "y = pima.Verdict # Target variable\n"
   ]
  },
  {
   "cell_type": "code",
   "execution_count": 24,
   "id": "8ecdbbd7",
   "metadata": {},
   "outputs": [],
   "source": [
    "# Split dataset into training set and test set\n",
    "X_train, X_test, y_train, y_test = train_test_split(X, y, test_size=0.2, random_state=1) \n"
   ]
  },
  {
   "cell_type": "code",
   "execution_count": 25,
   "id": "2a0ec7d6",
   "metadata": {},
   "outputs": [],
   "source": [
    "# Create Decision Tree classifer object\n",
    "clf = DecisionTreeClassifier()\n",
    "\n",
    "# Train Decision Tree Classifer\n",
    "clf = clf.fit(X_train,y_train)\n",
    "\n",
    "#Predict the response for test dataset\n",
    "y_pred = clf.predict(X_test)"
   ]
  },
  {
   "cell_type": "code",
   "execution_count": 26,
   "id": "9a78f4bf",
   "metadata": {},
   "outputs": [
    {
     "name": "stdout",
     "output_type": "stream",
     "text": [
      "Accuracy: 1.0\n"
     ]
    }
   ],
   "source": [
    "# Model Accuracy, how often is the classifier correct?\n",
    "print(\"Accuracy:\",metrics.accuracy_score(y_test, y_pred))"
   ]
  },
  {
   "cell_type": "code",
   "execution_count": null,
   "id": "a30491d2",
   "metadata": {},
   "outputs": [],
   "source": []
  },
  {
   "cell_type": "code",
   "execution_count": null,
   "id": "5bea3c6b",
   "metadata": {},
   "outputs": [],
   "source": []
  }
 ],
 "metadata": {
  "kernelspec": {
   "display_name": "Python 3",
   "language": "python",
   "name": "python3"
  },
  "language_info": {
   "codemirror_mode": {
    "name": "ipython",
    "version": 3
   },
   "file_extension": ".py",
   "mimetype": "text/x-python",
   "name": "python",
   "nbconvert_exporter": "python",
   "pygments_lexer": "ipython3",
   "version": "3.9.5"
  },
  "vscode": {
   "interpreter": {
    "hash": "e31aef8222fb7c235d2ed8e74ce17e973738f89b37261e7466b7a63a6dfb1214"
   }
  }
 },
 "nbformat": 4,
 "nbformat_minor": 5
}
