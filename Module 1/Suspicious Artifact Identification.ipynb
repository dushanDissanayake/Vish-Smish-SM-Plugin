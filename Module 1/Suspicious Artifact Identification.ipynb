{
 "cells": [
  {
   "cell_type": "code",
   "execution_count": 5,
   "id": "03f834bd",
   "metadata": {
    "scrolled": true
   },
   "outputs": [],
   "source": [
    "from __future__ import print_function\n",
    "from tqdm import tqdm\n",
    "import argparse\n",
    "import hashlib\n",
    "import pandas as pd\n",
    "import openpyxl\n",
    "import json\n",
    "import requests\n",
    "import textwrap\n",
    "import pyodbc\n",
    "import sys\n",
    "import time\n",
    "import re\n",
    "import os"
   ]
  },
  {
   "cell_type": "code",
   "execution_count": 19,
   "id": "98df30d7",
   "metadata": {},
   "outputs": [],
   "source": [
    "# Give the location of the file\n",
    "path = \"ioc.xlsx\""
   ]
  },
  {
   "cell_type": "code",
   "execution_count": 65,
   "id": "df3e985a",
   "metadata": {},
   "outputs": [
    {
     "name": "stdout",
     "output_type": "stream",
     "text": [
      "Starting suspicious artifacts identification module...\n",
      "Reminder: 17g24tOg1URxOylEyt9v3Nps5T8CKe2Gyd 192.0.2.5 You have DK5000400440116243 not downloaded 94782345678 the content you 123 Main Street, Anytown, USA Parkway Gsmrat@123 the content 1958.01.01 have 078-05-1120 already paid 4216890234567891 for. Goto https://kondio-safari.com/1.exe to collect your content.\n",
      "<re.Match object; span=(255, 280), match='https://kondio-safari.com'>\n",
      "None\n",
      "None\n",
      "<re.Match object; span=(45, 54), match='192.0.2.5'>\n",
      "None\n",
      "<re.Match object; span=(263, 280), match='kondio-safari.com'>\n"
     ]
    }
   ],
   "source": [
    "# Workbook object is created\n",
    "wb_obj = openpyxl.load_workbook(path)  \n",
    "sheet_obj = wb_obj.active\n",
    "max_row = sheet_obj.max_row\n",
    "\n",
    "\n",
    "def detect_sus_artifacts():\n",
    "    print ('Starting suspicious artifacts identification module...')\n",
    "\n",
    "    sheet_obj = wb_obj[\"bank\"]\n",
    "\n",
    "    url_pattern = r'\\b(?:(?:https?|ftp):\\/\\/)?(?:www\\.)?[a-zA-Z0-9\\-\\.]+\\.[a-zA-Z]{2,}\\b'\n",
    "    email_pattern = r'\\b[a-zA-Z0-9._%+-]+@[a-zA-Z0-9.-]+\\.[a-zA-Z]{2,}\\b'\n",
    "    phone_number_pattern = r'^011(999|998|997|996|995|994|993|992|991| 990|979|978|977|976|975|974|973|972|971|970| 969|968|967|966|965|964|963|962|961|960|899| 898|897|896|895|894|893|892|891|890|889|888| 887|886|885|884|883|882|881|880|879|878|877| 876|875|874|873|872|871|870|859|858|857|856| 855|854|853|852|851|850|839|838|837|836|835| 834|833|832|831|830|809|808|807|806|805|804| 803|802|801|800|699|698|697|696|695|694|693| 692|691|690|689|688|687|686|685|684|683|682| 681|680|679|678|677|676|675|674|673|672|671| 670|599|598|597|596|595|594|593|592|591|590| 509|508|507|506|505|504|503|502|501|500|429| 428|427|426|425|424|423|422|421|420|389|388| 387|386|385|384|383|382|381|380|379|378|377| 376|375|374|373|372|371|370|359|358|357|356| 355|354|353|352|351|350|299|298|297|296|295| 294|293|292|291|290|289|288|287|286|285|284| 283|282|281|280|269|268|267|266|265|264|263| 262|261|260|259|258|257|256|255|254|253|252| 251|250|249|248|247|246|245|244|243|242|241| 240|239|238|237|236|235|234|233|232|231|230| 229|228|227|226|225|224|223|222|221|220|219| 218|217|216|215|214|213|212|211|210|98|95|94| 93|92|91|90|86|84|82|81|66|65|64|63|62|61|60| 58|57|56|55|54|53|52|51|49|48|47|46|45|44|43| 41|40|39|36|34|33|32|31|30|27|20|7|1)[0-9]{0, 14}$'\n",
    "    ip_address_pattern = r'\\b(?:(?:\\d{1,2}|1\\d{2}|2[0-4]\\d|25[0-5])\\.){3}(?:\\d{1,2}|1\\d{2}|2[0-4]\\d|25[0-5])\\b'\n",
    "    crypto_wallet_address_pattern = r'\\b(0x[a-fA-F0-9]{40}|[13][a-km-zA-HJ-NP-Z0-9]{25,39}|bc1[ac-hj-np-z02-9]{11,71})\\b'\n",
    "    domain_pattern = r'\\b[a-zA-Z0-9]([a-zA-Z0-9-]{0,61}[a-zA-Z0-9])?(\\.[a-zA-Z0-9]([a-zA-Z0-9-]{0,61}[a-zA-Z0-9])?)*\\.[a-zA-Z]{2,}\\b'\n",
    "    \n",
    "    for i in range(2, max_row + 1):\n",
    "        cell_obj = sheet_obj.cell(row = i, column = 2)\n",
    "        scan_value = cell_obj.value\n",
    "\n",
    "        print(scan_value)\n",
    "    \n",
    "        url_pattern = re.search(url_pattern, scan_value)\n",
    "        email_pattern = re.search(email_pattern, scan_value)\n",
    "        phone_number_pattern = re.search(phone_number_pattern, scan_value)\n",
    "        ip_address_pattern = re.search(ip_address_pattern, scan_value)\n",
    "        crypto_wallet_address_pattern = re.search(crypto_wallet_address_pattern, scan_value)\n",
    "        domain_pattern = re.search(domain_pattern, scan_value)\n",
    "\n",
    "        print(url_pattern)\n",
    "        print(email_pattern)\n",
    "        print(phone_number_pattern)\n",
    "        print(ip_address_pattern)\n",
    "        print(crypto_wallet_address_pattern)\n",
    "        print(domain_pattern)\n",
    "\n",
    "        return None\n",
    "\n",
    "\n",
    "def main():\n",
    "    detect_sus_artifacts()\n",
    "\n",
    "\n",
    "if __name__ == \"__main__\":\n",
    "    main()\n",
    "\n"
   ]
  },
  {
   "cell_type": "code",
   "execution_count": null,
   "id": "6e06d71b",
   "metadata": {},
   "outputs": [],
   "source": []
  },
  {
   "cell_type": "code",
   "execution_count": null,
   "id": "102cf31e",
   "metadata": {},
   "outputs": [],
   "source": []
  }
 ],
 "metadata": {
  "kernelspec": {
   "display_name": "Python 3 (ipykernel)",
   "language": "python",
   "name": "python3"
  },
  "language_info": {
   "codemirror_mode": {
    "name": "ipython",
    "version": 3
   },
   "file_extension": ".py",
   "mimetype": "text/x-python",
   "name": "python",
   "nbconvert_exporter": "python",
   "pygments_lexer": "ipython3",
   "version": "3.9.5"
  }
 },
 "nbformat": 4,
 "nbformat_minor": 5
}
